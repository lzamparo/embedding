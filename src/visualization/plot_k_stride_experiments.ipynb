{
 "cells": [
  {
   "cell_type": "code",
   "execution_count": 22,
   "metadata": {},
   "outputs": [],
   "source": [
    "import re\n",
    "import os\n",
    "import pandas as pd\n",
    "from bkcharts import Scatter, output_file, show\n",
    "from bokeh.layouts import row"
   ]
  },
  {
   "cell_type": "code",
   "execution_count": 3,
   "metadata": {
    "collapsed": true
   },
   "outputs": [],
   "source": [
    "# define helpers for parsing files, extracting values\n",
    "def parse_filename(f):\n",
    "    parts = f.strip().split(\"_\")\n",
    "    k = parts[1]\n",
    "    stride = parts[3].split(\".\")[0]\n",
    "    return k, stride\n",
    "    \n",
    "def detect_macrobatch(line, macrobatch_detector):\n",
    "    m = macrobatch_detector.match(line)\n",
    "    return m.groups()[0] if m is not None else None\n",
    "\n",
    "def detect_loss(line, loss_detector):\n",
    "    m = loss_detector.match(line)\n",
    "    return m.groups()[0] if m is not None else None"
   ]
  },
  {
   "cell_type": "code",
   "execution_count": 4,
   "metadata": {
    "collapsed": true
   },
   "outputs": [],
   "source": [
    "# define the REs for extracting values\n",
    "macrobatch_detector = re.compile('.*macrobatch\\ (\\d+)')\n",
    "loss_detector = re.compile('.*loss: (\\d+\\.\\d+)')"
   ]
  },
  {
   "cell_type": "code",
   "execution_count": 5,
   "metadata": {
    "collapsed": true
   },
   "outputs": [],
   "source": [
    "# get list of files\n",
    "txt_files = [f for f in os.listdir(os.path.expanduser(\"~/projects/embedding/results/debug_output\")) if f.endswith('filtered.txt')]\n",
    "\n",
    "# build df in tidy-data fashion\n",
    "dfs = []"
   ]
  },
  {
   "cell_type": "code",
   "execution_count": 6,
   "metadata": {},
   "outputs": [],
   "source": [
    "for fname in txt_files:\n",
    "    K, stride = parse_filename(fname)\n",
    "    loss_list = []\n",
    "    macrobatch_list = []\n",
    "    epoch_list = []\n",
    "    my_f = open(os.path.join(os.path.expanduser(\"~/projects/embedding/results/debug_output\"),fname), encoding='utf-8')\n",
    "    for line in my_f:\n",
    "        # scrape the data\n",
    "        line = line.strip()\n",
    "        m = detect_macrobatch(line, macrobatch_detector)\n",
    "        if m is not None:\n",
    "            macrobatch_list.append(m)\n",
    "        l = detect_loss(line, loss_detector)\n",
    "        if l is not None:\n",
    "            loss_list.append(l)\n",
    "    my_f.close()\n",
    "    \n",
    "    # construct the DF, ensuring that all macrobatch, loss and epoch lists are the same length\n",
    "    epoch = 0\n",
    "    prev = 0\n",
    "    for i, m in enumerate(macrobatch_list):\n",
    "        if abs(int(m) - prev) > 1:\n",
    "            epoch += 1\n",
    "        epoch_list.append(epoch)\n",
    "        prev = int(m)\n",
    "        \n",
    "    this_df = pd.DataFrame.from_items([('K', [int(K) for i in range(len(loss_list))]),('stride', [int(stride) for i in range(len(loss_list))]),('epoch', epoch_list),('macrobatch', [int(m) for m in macrobatch_list]),('loss',[float(l) for l in loss_list])], orient='columns')    \n",
    "    dfs.append(this_df)   "
   ]
  },
  {
   "cell_type": "code",
   "execution_count": 19,
   "metadata": {},
   "outputs": [
    {
     "data": {
      "text/html": [
       "<div>\n",
       "<table border=\"1\" class=\"dataframe\">\n",
       "  <thead>\n",
       "    <tr style=\"text-align: right;\">\n",
       "      <th></th>\n",
       "      <th>K</th>\n",
       "      <th>stride</th>\n",
       "      <th>epoch</th>\n",
       "      <th>macrobatch</th>\n",
       "      <th>loss</th>\n",
       "    </tr>\n",
       "  </thead>\n",
       "  <tbody>\n",
       "    <tr>\n",
       "      <th>0</th>\n",
       "      <td>8</td>\n",
       "      <td>1</td>\n",
       "      <td>0</td>\n",
       "      <td>0</td>\n",
       "      <td>11.090357</td>\n",
       "    </tr>\n",
       "    <tr>\n",
       "      <th>1</th>\n",
       "      <td>8</td>\n",
       "      <td>1</td>\n",
       "      <td>0</td>\n",
       "      <td>1</td>\n",
       "      <td>11.090354</td>\n",
       "    </tr>\n",
       "    <tr>\n",
       "      <th>2</th>\n",
       "      <td>8</td>\n",
       "      <td>1</td>\n",
       "      <td>0</td>\n",
       "      <td>2</td>\n",
       "      <td>11.090347</td>\n",
       "    </tr>\n",
       "    <tr>\n",
       "      <th>3</th>\n",
       "      <td>8</td>\n",
       "      <td>1</td>\n",
       "      <td>0</td>\n",
       "      <td>3</td>\n",
       "      <td>11.090337</td>\n",
       "    </tr>\n",
       "    <tr>\n",
       "      <th>4</th>\n",
       "      <td>8</td>\n",
       "      <td>1</td>\n",
       "      <td>0</td>\n",
       "      <td>4</td>\n",
       "      <td>11.090348</td>\n",
       "    </tr>\n",
       "  </tbody>\n",
       "</table>\n",
       "</div>"
      ],
      "text/plain": [
       "   K  stride  epoch  macrobatch       loss\n",
       "0  8       1      0           0  11.090357\n",
       "1  8       1      0           1  11.090354\n",
       "2  8       1      0           2  11.090347\n",
       "3  8       1      0           3  11.090337\n",
       "4  8       1      0           4  11.090348"
      ]
     },
     "execution_count": 19,
     "metadata": {},
     "output_type": "execute_result"
    }
   ],
   "source": [
    "# put into one df, see if it gets built properly\n",
    "my_df = pd.concat(dfs)\n",
    "\n",
    "# check the 8-mers\n",
    "eight_mers = my_df.loc[my_df['K'] == 8]\n",
    "eight_mers.head()"
   ]
  },
  {
   "cell_type": "code",
   "execution_count": 18,
   "metadata": {},
   "outputs": [
    {
     "data": {
      "text/html": [
       "<div>\n",
       "<table border=\"1\" class=\"dataframe\">\n",
       "  <thead>\n",
       "    <tr style=\"text-align: right;\">\n",
       "      <th></th>\n",
       "      <th>K</th>\n",
       "      <th>stride</th>\n",
       "      <th>epoch</th>\n",
       "      <th>macrobatch</th>\n",
       "      <th>loss</th>\n",
       "    </tr>\n",
       "  </thead>\n",
       "  <tbody>\n",
       "    <tr>\n",
       "      <th>0</th>\n",
       "      <td>6</td>\n",
       "      <td>1</td>\n",
       "      <td>0</td>\n",
       "      <td>0</td>\n",
       "      <td>11.090319</td>\n",
       "    </tr>\n",
       "    <tr>\n",
       "      <th>1</th>\n",
       "      <td>6</td>\n",
       "      <td>1</td>\n",
       "      <td>0</td>\n",
       "      <td>1</td>\n",
       "      <td>11.090282</td>\n",
       "    </tr>\n",
       "    <tr>\n",
       "      <th>2</th>\n",
       "      <td>6</td>\n",
       "      <td>1</td>\n",
       "      <td>0</td>\n",
       "      <td>2</td>\n",
       "      <td>11.090195</td>\n",
       "    </tr>\n",
       "    <tr>\n",
       "      <th>3</th>\n",
       "      <td>6</td>\n",
       "      <td>1</td>\n",
       "      <td>0</td>\n",
       "      <td>3</td>\n",
       "      <td>11.089995</td>\n",
       "    </tr>\n",
       "    <tr>\n",
       "      <th>4</th>\n",
       "      <td>6</td>\n",
       "      <td>1</td>\n",
       "      <td>0</td>\n",
       "      <td>4</td>\n",
       "      <td>11.089683</td>\n",
       "    </tr>\n",
       "  </tbody>\n",
       "</table>\n",
       "</div>"
      ],
      "text/plain": [
       "   K  stride  epoch  macrobatch       loss\n",
       "0  6       1      0           0  11.090319\n",
       "1  6       1      0           1  11.090282\n",
       "2  6       1      0           2  11.090195\n",
       "3  6       1      0           3  11.089995\n",
       "4  6       1      0           4  11.089683"
      ]
     },
     "execution_count": 18,
     "metadata": {},
     "output_type": "execute_result"
    }
   ],
   "source": [
    "# check the 6-mers\n",
    "six_mers = my_df.loc[my_df['K'] == 6]\n",
    "six_mers.head()"
   ]
  },
  {
   "cell_type": "code",
   "execution_count": 23,
   "metadata": {},
   "outputs": [],
   "source": [
    "p8 = Scatter(eight_mers, x='epoch', y='loss', color='stride', marker='stride',\n",
    "            title=\"8-mers with various strides\", legend=\"top_right\",\n",
    "            xlabel=\"Epoch\", ylabel=\"NCE logistic loss\")\n",
    "\n",
    "p6 = Scatter(six_mers, x='epoch', y='loss', color='stride', marker='stride',\n",
    "            title=\"6-mers with various strides\", legend=\"top_right\",\n",
    "            xlabel=\"Epoch\", ylabel=\"NCE logistic loss\")\n",
    "\n",
    "output_file(\"scatter.html\")\n",
    "\n",
    "show(row(p8, p6))\n",
    "\n",
    "\n",
    "\n",
    "\n"
   ]
  },
  {
   "cell_type": "code",
   "execution_count": null,
   "metadata": {
    "collapsed": true
   },
   "outputs": [],
   "source": []
  }
 ],
 "metadata": {
  "kernelspec": {
   "display_name": "Python 3",
   "language": "python",
   "name": "python3"
  },
  "language_info": {
   "codemirror_mode": {
    "name": "ipython",
    "version": 3
   },
   "file_extension": ".py",
   "mimetype": "text/x-python",
   "name": "python",
   "nbconvert_exporter": "python",
   "pygments_lexer": "ipython3",
   "version": "3.5.3"
  }
 },
 "nbformat": 4,
 "nbformat_minor": 2
}
