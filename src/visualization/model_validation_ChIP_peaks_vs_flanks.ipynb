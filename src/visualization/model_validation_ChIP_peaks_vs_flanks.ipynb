{
 "cells": [
  {
   "cell_type": "code",
   "execution_count": 1,
   "metadata": {},
   "outputs": [],
   "source": [
    "from collections import Counter\n",
    "import pickle\n",
    "import os\n",
    "import yaml\n",
    "import random\n",
    "import numpy as np\n",
    "import pandas as pd\n",
    "\n",
    "from time import time\n",
    "import matplotlib.pyplot as plt\n",
    "\n",
    "from scipy.stats import bernoulli, gaussian_kde\n",
    "from sklearn import decomposition\n",
    "\n",
    "#import bkcharts\n",
    "#import bokeh.io\n",
    "#import bokeh.palettes\n",
    "#from bokeh.models import ColumnDataSource, LabelSet\n",
    "#from bokeh.layouts import row\n",
    "#from bokeh.plotting import figure\n",
    "#bokeh.io.output_notebook()\n",
    "#import holoviews as hv\n",
    "#hv.notebook_extension('plotly')\n",
    "import matplotlib.pyplot as plt\n",
    "\n",
    "os.chdir(os.path.expanduser(\"~/projects/embedding/src\"))\n",
    "from probe2vec.w2v import word2vec, Word2VecEmbedder\n",
    "from probe2vec.dataset_reader import DatasetReader\n",
    "from probe2vec.embedding_utils import build_index, most_similar, merge_counters, reshape_to_vector, SequenceParser\n",
    "from probe2vec.theano_minibatcher import (\n",
    "    TheanoMinibatcher, NoiseContrastiveTheanoMinibatcher\n",
    ")"
   ]
  },
  {
   "cell_type": "code",
   "execution_count": 2,
   "metadata": {
    "collapsed": true
   },
   "outputs": [],
   "source": [
    "# get the model file params\n",
    "%matplotlib inline\n",
    "\n",
    "config_dir = os.path.expanduser('~/projects/embedding/src/config_yamls/atac_kmer_models/')\n",
    "results_dir = os.path.expanduser('~/projects/embedding/results/GM12878_atac/distal_seq_kernel/k_6_s_1')\n",
    "model_yaml = 'k_6_s_1_distal.yaml'\n",
    "with open(os.path.join(config_dir, model_yaml)) as f:\n",
    "    params = yaml.load(f)"
   ]
  },
  {
   "cell_type": "code",
   "execution_count": 3,
   "metadata": {
    "collapsed": true
   },
   "outputs": [],
   "source": [
    "# load the embedder\n",
    "ChIP_data_dir = os.path.expanduser('~/projects/SeqDemote/data/ChIP/GM12878/chip_fasta_files')\n",
    "os.chdir(os.path.expanduser(\"~/projects/embedding/src\"))"
   ]
  },
  {
   "cell_type": "markdown",
   "metadata": {},
   "source": [
    "## Set up the machinery for reading, parsing, and embedding sequences"
   ]
  },
  {
   "cell_type": "code",
   "execution_count": 4,
   "metadata": {},
   "outputs": [
    {
     "name": "stdout",
     "output_type": "stream",
     "text": [
      "Loading dictionary from ../results/GM12878_atac/distal_seq_kernel/k_6_s_1...\n",
      "pruning dictionary to eliminate tokens occuring less than 0 times.\n",
      "dropped  0  tokens in pruning the unigram dictionary\n"
     ]
    },
    {
     "data": {
      "text/plain": [
       "'../results/GM12878_atac/distal_seq_kernel/k_6_s_1'"
      ]
     },
     "execution_count": 4,
     "metadata": {},
     "output_type": "execute_result"
    }
   ],
   "source": [
    "my_sp = SequenceParser(**params)\n",
    "\n",
    "# load the DatasetReader object from the save dir\n",
    "reader = DatasetReader(files=[], directories=[], skip=[], noise_ratio=15, \n",
    "                      t=1e-5, num_processes=3, \n",
    "                      unigram_dictionary=None, \n",
    "                      min_frequency=0, kernel=[1, 2, 3, \n",
    "                      4, 5, 5, 4, 3, 2, 1], \n",
    "                      load_dictionary_dir=params['save_dir'], \n",
    "                      max_queue_size=0, \n",
    "                      macrobatch_size=20000, \n",
    "                      parser=my_sp, \n",
    "                      verbose=True, k=params['K'], \n",
    "                      stride=params['stride'])\n",
    "    \n",
    "# load the embedder, DatasetReader objects\n",
    "batch_size = 1000\n",
    "noise_ratio=15\n",
    "num_embedding_dimensions=params['num_embedding_dimensions']\n",
    "full_batch_size = batch_size * (1 + noise_ratio)\n",
    "\n",
    "minibatcher = NoiseContrastiveTheanoMinibatcher(\n",
    "    batch_size=batch_size,\n",
    "    noise_ratio=noise_ratio,\n",
    "    dtype=\"int32\",\n",
    "    num_dims=2\n",
    ")\n",
    "\n",
    "embedder = Word2VecEmbedder(input_var=minibatcher.get_batch(),\n",
    "                            batch_size=full_batch_size,\n",
    "                            vocabulary_size=reader.get_vocab_size(),\n",
    "                            num_embedding_dimensions=num_embedding_dimensions)\n",
    "embedder.load(os.path.join(params['save_dir'],''))\n",
    "params['save_dir']"
   ]
  },
  {
   "cell_type": "code",
   "execution_count": 5,
   "metadata": {
    "collapsed": true
   },
   "outputs": [],
   "source": [
    "# Load a random set of probes from a randomly chosen factor, embed, and visualize the probes\n",
    "def sample_from_factor(filename, percentage=0.5):\n",
    "    tokenized_sentences = my_sp.parse(filename) \n",
    "    samples = bernoulli.rvs(percentage,size=len(tokenized_sentences)).astype('bool').tolist()\n",
    "    return [s for s,i in zip(tokenized_sentences,samples) if i], [s for s,i in zip(tokenized_sentences,samples) if not i]\n",
    "    "
   ]
  },
  {
   "cell_type": "markdown",
   "metadata": {},
   "source": [
    "# Sample a factor from the ChIP data\n",
    "Here is the recipe for orthogonal validation of an embedding model via ChIP data:\n",
    "- choose a factor\n",
    "- sample sequences from the peaks\n",
    "- sample sequences from the flanks\n",
    "- transform sequences into embedding space to get the embedded features\n",
    "- transform sequences via HashingVectorizer to get the direct from sequence features\n",
    "- push both through a pipeline for classification of peaks from flanks"
   ]
  },
  {
   "cell_type": "code",
   "execution_count": 6,
   "metadata": {},
   "outputs": [
    {
     "name": "stdout",
     "output_type": "stream",
     "text": [
      "Number of training peaks:  3145\n",
      "Number of validation peaks:  821\n",
      "Number of training flanks:  6308\n",
      "Number of validation flanks:  1620\n"
     ]
    }
   ],
   "source": [
    "# choose the factor\n",
    "factors = os.listdir(ChIP_data_dir)\n",
    "random.shuffle(factors)\n",
    "factor = factors[0]\n",
    "peaks_files = [f for f in os.listdir(os.path.join(ChIP_data_dir,factor)) if f.endswith(\"peaks.fa\")]\n",
    "peak_file = os.path.join(ChIP_data_dir,factor,peaks_files[0])\n",
    "flank_files = [f for f in os.listdir(os.path.join(ChIP_data_dir,factor)) if f.endswith(\"flanks.fa\")]\n",
    "flank_file = os.path.join(ChIP_data_dir,factor,flank_files[0])\n",
    "\n",
    "# sample peak, flank sequences\n",
    "percentage = 0.8\n",
    "training_peaks, validation_peaks = sample_from_factor(peak_file, percentage)\n",
    "training_flanks, validation_flanks = sample_from_factor(flank_file, percentage)\n",
    "\n",
    "print(\"Number of training peaks: \", len(training_peaks))\n",
    "print(\"Number of validation peaks: \", len(validation_peaks))\n",
    "print(\"Number of training flanks: \", len(training_flanks))\n",
    "print(\"Number of validation flanks: \", len(validation_flanks))"
   ]
  },
  {
   "cell_type": "markdown",
   "metadata": {},
   "source": [
    "### Package up the data set\n",
    "1. Embed the peaks, flanks into the embedding space\n",
    "2. Form the peaks, flanks into a numpy array, and make the labels"
   ]
  },
  {
   "cell_type": "code",
   "execution_count": 7,
   "metadata": {},
   "outputs": [
    {
     "name": "stdout",
     "output_type": "stream",
     "text": [
      "training peaks shape:  (3145, 100)\n",
      "training flanks shape: (6308, 100)\n",
      "Shape of the training data:  (9453, 100)\n",
      "Shape of the training labels:  (9453,)\n"
     ]
    }
   ],
   "source": [
    "# Embed each of the k-mers from the sample sentences, and the other sentences\n",
    "embedded_peaks = []\n",
    "embedded_peaks_means = []\n",
    "for count, peak in enumerate(training_peaks):\n",
    "    peak_token_ids = [reader.unigram_dictionary.get_id(token) for token in peak]\n",
    "    embedded_tokens = [embedder.embed(t) for t in peak_token_ids]\n",
    "    embedded_peaks.append(embedded_tokens)\n",
    "    embedded_peaks_means.append(np.concatenate(embedded_tokens).mean(axis=0))\n",
    " \n",
    "training_peak_X = np.stack(embedded_peaks_means)\n",
    "\n",
    "embedded_flanks = []\n",
    "embedded_flanks_means = []\n",
    "for count, flank in enumerate(training_flanks):\n",
    "    flank_token_ids = [reader.unigram_dictionary.get_id(token) for token in flank]\n",
    "    embedded_tokens = [embedder.embed(t) for t in flank_token_ids]\n",
    "    embedded_flanks.append(embedded_tokens)\n",
    "    embedded_flanks_means.append(np.concatenate(embedded_tokens).mean(axis=0))\n",
    "   \n",
    "training_flank_X = np.stack(embedded_flanks_means)\n",
    "\n",
    "training_peak_labels = np.ones((len(training_peaks),))\n",
    "training_flank_labels = np.zeros((len(training_flanks),))\n",
    "print(\"training peaks shape: \", training_peak_X.shape)\n",
    "print(\"training flanks shape:\", training_flank_X.shape)\n",
    "\n",
    "X_train_embedded = np.concatenate((training_peak_X,training_flank_X))\n",
    "Y_train_labels = np.concatenate((training_peak_labels,training_flank_labels))\n",
    "\n",
    "print(\"Shape of the training data: \", X_train_embedded.shape)\n",
    "print(\"Shape of the training labels: \", Y_train_labels.shape)"
   ]
  },
  {
   "cell_type": "markdown",
   "metadata": {},
   "source": [
    "### Encode the validation data similarly"
   ]
  },
  {
   "cell_type": "code",
   "execution_count": 8,
   "metadata": {},
   "outputs": [
    {
     "name": "stdout",
     "output_type": "stream",
     "text": [
      "Validation peak shape:  (821, 100)\n",
      "Validation flank shape: (1620, 100)\n",
      "Shape of the validation data:  (2441, 100)\n",
      "Shape of the validation labels:  (2441,)\n"
     ]
    }
   ],
   "source": [
    "# Embed each of the k-mers from the sample sentences, and the other sentences\n",
    "embedded_peaks = []\n",
    "embedded_peaks_means = []\n",
    "for count, peak in enumerate(validation_peaks):\n",
    "    peak_token_ids = [reader.unigram_dictionary.get_id(token) for token in peak]\n",
    "    embedded_tokens = [embedder.embed(t) for t in peak_token_ids]\n",
    "    embedded_peaks.append(embedded_tokens)\n",
    "    embedded_peaks_means.append(np.concatenate(embedded_tokens).mean(axis=0))\n",
    " \n",
    "validation_peak_X = np.stack(embedded_peaks_means)\n",
    "\n",
    "embedded_flanks = []\n",
    "embedded_flanks_means = []\n",
    "for count, flank in enumerate(validation_flanks):\n",
    "    flank_token_ids = [reader.unigram_dictionary.get_id(token) for token in flank]\n",
    "    embedded_tokens = [embedder.embed(t) for t in flank_token_ids]\n",
    "    embedded_flanks.append(embedded_tokens)\n",
    "    embedded_flanks_means.append(np.concatenate(embedded_tokens).mean(axis=0))\n",
    "   \n",
    "validation_flank_X = np.stack(embedded_flanks_means)\n",
    "\n",
    "validation_peak_labels = np.ones((len(validation_peaks),))\n",
    "validation_flank_labels = np.zeros((len(validation_flanks),))\n",
    "print(\"Validation peak shape: \", validation_peak_X.shape)\n",
    "print(\"Validation flank shape:\", validation_flank_X.shape)\n",
    "\n",
    "X_validation_embedded = np.concatenate((validation_peak_X, validation_flank_X))\n",
    "Y_validation_labels = np.concatenate((validation_peak_labels, validation_flank_labels))\n",
    "\n",
    "print(\"Shape of the validation data: \", X_validation_embedded.shape)\n",
    "print(\"Shape of the validation labels: \", Y_validation_labels.shape)"
   ]
  },
  {
   "cell_type": "markdown",
   "metadata": {},
   "source": [
    "### Transform the peaks, flanks via CountVectorizer and Random Projection\n",
    "\n",
    "As a comparison to the w2v embedding, use the CountVectorizer to turn each probe into a vector of counts, then project that vector of counts down to a 100 dimensional space via Random Projections."
   ]
  },
  {
   "cell_type": "code",
   "execution_count": 12,
   "metadata": {
    "collapsed": true
   },
   "outputs": [],
   "source": [
    "from sklearn.feature_extraction.text import CountVectorizer\n",
    "from scipy.sparse import vstack\n",
    "vectorizer = CountVectorizer(analyzer='word',lowercase=False)\n",
    "\n",
    "joint_corpus = [\" \".join(p) for p in training_peaks]\n",
    "for l in [[\" \".join(f) for f in training_flanks], [\" \".join(p) for p in validation_peaks], [\" \".join(p) for p in validation_flanks]]:\n",
    "    joint_corpus.extend(l)\n",
    "vectorizer.fit(joint_corpus)\n",
    "\n",
    "train_peaks_counts = vectorizer.transform([\" \".join(p) for p in training_peaks])\n",
    "train_flanks_counts = vectorizer.transform([\" \".join(f) for f in training_flanks])\n",
    "valid_peaks_counts = vectorizer.transform([\" \".join(p) for p in validation_peaks])\n",
    "valid_flanks_counts = vectorizer.transform([\" \".join(p) for p in validation_flanks])\n"
   ]
  },
  {
   "cell_type": "code",
   "execution_count": 14,
   "metadata": {},
   "outputs": [
    {
     "name": "stdout",
     "output_type": "stream",
     "text": [
      "Shape, type of train_peaks_vectorized:  (3145, 100) <class 'numpy.ndarray'>\n",
      "Shape, type of train_flanks_vectorized:  (6308, 100) <class 'numpy.ndarray'>\n",
      "Shape of the RP k-mer training data:  (9453, 100)\n",
      "Shape of the RP k-mer validation data:  (2441, 100)\n"
     ]
    }
   ],
   "source": [
    "from sklearn.random_projection import GaussianRandomProjection\n",
    "\n",
    "gpr = GaussianRandomProjection(n_components=100)\n",
    "gpr.fit(train_peaks_counts)\n",
    "\n",
    "train_peaks_vectorized = gpr.transform(train_peaks_counts)\n",
    "train_flanks_vectorized = gpr.transform(train_flanks_counts)\n",
    "valid_peaks_vectorized = gpr.transform(valid_peaks_counts)\n",
    "valid_flanks_vectorized = gpr.transform(valid_flanks_counts)\n",
    "\n",
    "print(\"Shape, type of train_peaks_vectorized: \", train_peaks_vectorized.shape, type(train_peaks_vectorized))\n",
    "print(\"Shape, type of train_flanks_vectorized: \", train_flanks_vectorized.shape, type(train_flanks_vectorized))\n",
    "\n",
    "X_train_hashed = vstack((train_peaks_vectorized, train_flanks_vectorized))\n",
    "X_valid_hashed = vstack((valid_peaks_vectorized, valid_flanks_vectorized))\n",
    "\n",
    "print(\"Shape of the RP k-mer training data: \", X_train_hashed.shape)\n",
    "print(\"Shape of the RP k-mer validation data: \", X_valid_hashed.shape)"
   ]
  },
  {
   "cell_type": "markdown",
   "metadata": {},
   "source": [
    "### Train competing classifiers on each feature set, evaluate on validation set"
   ]
  },
  {
   "cell_type": "code",
   "execution_count": 15,
   "metadata": {},
   "outputs": [],
   "source": [
    "from sklearn import metrics\n",
    "\n",
    "def benchmark(clf, train_data, train_labels, valid_data, valid_labels, print_report=True, print_cm=True):\n",
    "    \n",
    "    clf.fit(train_data, train_labels)\n",
    "    pred = clf.predict(valid_data)\n",
    "    \n",
    "    if hasattr(clf, 'decision_function'):\n",
    "        pred_score = clf.decision_function(valid_data)\n",
    "        \n",
    "    elif hasattr(clf, 'predict_proba'):\n",
    "        pred_score = clf.predict_proba(valid_data)[:, 1]\n",
    "        \n",
    "    aupr = metrics.average_precision_score(valid_labels, pred_score)\n",
    "    auroc = metrics.roc_auc_score(valid_labels, pred_score)    \n",
    "    score = metrics.accuracy_score(valid_labels, pred) \n",
    "    f_one = metrics.f1_score(valid_labels, pred)\n",
    "    \n",
    "    if hasattr(clf, 'coef_'):\n",
    "        print(\"dimensionality: %d\" % clf.coef_.shape[1])\n",
    "        print(\"density: %f\" % density(clf.coef_))\n",
    "\n",
    "    if print_report:\n",
    "        print(\"classification report:\")\n",
    "        print(metrics.classification_report(valid_labels, pred))\n",
    "\n",
    "    if print_cm:\n",
    "        print(\"confusion matrix:\")\n",
    "        print(metrics.confusion_matrix(valid_labels, pred))\n",
    "\n",
    "    print()\n",
    "    clf_descr = str(clf).split('(')[0]\n",
    "    \n",
    "    return clf_descr, score, aupr, auroc, f_one\n",
    "    \n",
    "\n"
   ]
  },
  {
   "cell_type": "code",
   "execution_count": 16,
   "metadata": {
    "slideshow": {
     "slide_type": "-"
    }
   },
   "outputs": [
    {
     "name": "stdout",
     "output_type": "stream",
     "text": [
      "================================================================================\n",
      "Ridge Classifier\n",
      "dimensionality: 100\n",
      "density: 1.000000\n",
      "classification report:\n",
      "             precision    recall  f1-score   support\n",
      "\n",
      "        0.0       0.77      0.90      0.83      1620\n",
      "        1.0       0.70      0.45      0.55       821\n",
      "\n",
      "avg / total       0.74      0.75      0.74      2441\n",
      "\n",
      "confusion matrix:\n",
      "[[1462  158]\n",
      " [ 448  373]]\n",
      "\n",
      "================================================================================\n",
      "kNN\n",
      "classification report:\n",
      "             precision    recall  f1-score   support\n",
      "\n",
      "        0.0       0.73      0.89      0.80      1620\n",
      "        1.0       0.62      0.37      0.46       821\n",
      "\n",
      "avg / total       0.69      0.71      0.69      2441\n",
      "\n",
      "confusion matrix:\n",
      "[[1434  186]\n",
      " [ 521  300]]\n",
      "\n",
      "================================================================================\n",
      "Random forest\n",
      "classification report:\n",
      "             precision    recall  f1-score   support\n",
      "\n",
      "        0.0       0.73      0.92      0.82      1620\n",
      "        1.0       0.68      0.33      0.45       821\n",
      "\n",
      "avg / total       0.71      0.72      0.69      2441\n",
      "\n",
      "confusion matrix:\n",
      "[[1492  128]\n",
      " [ 548  273]]\n",
      "\n",
      "================================================================================\n",
      "L2 penalty\n",
      "dimensionality: 100\n",
      "density: 1.000000\n",
      "classification report:\n",
      "             precision    recall  f1-score   support\n",
      "\n",
      "        0.0       0.77      0.90      0.83      1620\n",
      "        1.0       0.70      0.48      0.57       821\n",
      "\n",
      "avg / total       0.75      0.76      0.74      2441\n",
      "\n",
      "confusion matrix:\n",
      "[[1450  170]\n",
      " [ 428  393]]\n",
      "\n"
     ]
    },
    {
     "name": "stderr",
     "output_type": "stream",
     "text": [
      "/Users/zamparol/anaconda36/lib/python3.6/site-packages/sklearn/linear_model/stochastic_gradient.py:117: DeprecationWarning: n_iter parameter is deprecated in 0.19 and will be removed in 0.21. Use max_iter and tol instead.\n",
      "  DeprecationWarning)\n"
     ]
    },
    {
     "name": "stdout",
     "output_type": "stream",
     "text": [
      "dimensionality: 100\n",
      "density: 1.000000\n",
      "classification report:\n",
      "             precision    recall  f1-score   support\n",
      "\n",
      "        0.0       0.76      0.91      0.83      1620\n",
      "        1.0       0.71      0.43      0.53       821\n",
      "\n",
      "avg / total       0.74      0.75      0.73      2441\n",
      "\n",
      "confusion matrix:\n",
      "[[1480  140]\n",
      " [ 472  349]]\n",
      "\n",
      "================================================================================\n",
      "L1 penalty\n",
      "dimensionality: 100\n",
      "density: 0.700000\n",
      "classification report:\n",
      "             precision    recall  f1-score   support\n",
      "\n",
      "        0.0       0.77      0.89      0.83      1620\n",
      "        1.0       0.69      0.48      0.57       821\n",
      "\n",
      "avg / total       0.74      0.75      0.74      2441\n",
      "\n",
      "confusion matrix:\n",
      "[[1443  177]\n",
      " [ 428  393]]\n",
      "\n"
     ]
    },
    {
     "name": "stderr",
     "output_type": "stream",
     "text": [
      "/Users/zamparol/anaconda36/lib/python3.6/site-packages/sklearn/linear_model/stochastic_gradient.py:117: DeprecationWarning: n_iter parameter is deprecated in 0.19 and will be removed in 0.21. Use max_iter and tol instead.\n",
      "  DeprecationWarning)\n"
     ]
    },
    {
     "name": "stdout",
     "output_type": "stream",
     "text": [
      "dimensionality: 100\n",
      "density: 0.700000\n",
      "classification report:\n",
      "             precision    recall  f1-score   support\n",
      "\n",
      "        0.0       0.81      0.83      0.82      1620\n",
      "        1.0       0.64      0.61      0.63       821\n",
      "\n",
      "avg / total       0.75      0.75      0.75      2441\n",
      "\n",
      "confusion matrix:\n",
      "[[1341  279]\n",
      " [ 321  500]]\n",
      "\n",
      "================================================================================\n",
      "Elastic-Net penalty\n"
     ]
    },
    {
     "name": "stderr",
     "output_type": "stream",
     "text": [
      "/Users/zamparol/anaconda36/lib/python3.6/site-packages/sklearn/linear_model/stochastic_gradient.py:117: DeprecationWarning: n_iter parameter is deprecated in 0.19 and will be removed in 0.21. Use max_iter and tol instead.\n",
      "  DeprecationWarning)\n"
     ]
    },
    {
     "name": "stdout",
     "output_type": "stream",
     "text": [
      "dimensionality: 100\n",
      "density: 0.910000\n",
      "classification report:\n",
      "             precision    recall  f1-score   support\n",
      "\n",
      "        0.0       0.76      0.90      0.83      1620\n",
      "        1.0       0.70      0.45      0.55       821\n",
      "\n",
      "avg / total       0.74      0.75      0.73      2441\n",
      "\n",
      "confusion matrix:\n",
      "[[1465  155]\n",
      " [ 455  366]]\n",
      "\n",
      "================================================================================\n",
      "Naive Bayes\n",
      "dimensionality: 100\n",
      "density: 1.000000\n",
      "classification report:\n",
      "             precision    recall  f1-score   support\n",
      "\n",
      "        0.0       0.78      0.57      0.66      1620\n",
      "        1.0       0.44      0.68      0.54       821\n",
      "\n",
      "avg / total       0.67      0.61      0.62      2441\n",
      "\n",
      "confusion matrix:\n",
      "[[925 695]\n",
      " [264 557]]\n",
      "\n",
      "================================================================================\n",
      "LinearSVC with L1-based feature selection\n",
      "classification report:\n",
      "             precision    recall  f1-score   support\n",
      "\n",
      "        0.0       0.77      0.89      0.83      1620\n",
      "        1.0       0.70      0.48      0.57       821\n",
      "\n",
      "avg / total       0.75      0.75      0.74      2441\n",
      "\n",
      "confusion matrix:\n",
      "[[1448  172]\n",
      " [ 429  392]]\n",
      "\n",
      "================================================================================\n",
      "Ridge Classifier\n"
     ]
    },
    {
     "name": "stderr",
     "output_type": "stream",
     "text": [
      "/Users/zamparol/anaconda36/lib/python3.6/site-packages/sklearn/linear_model/ridge.py:319: UserWarning: In Ridge, only 'sag' solver can currently fit the intercept when X is sparse. Solver has been automatically changed into 'sag'.\n",
      "  warnings.warn(\"In Ridge, only 'sag' solver can currently fit the \"\n"
     ]
    },
    {
     "name": "stdout",
     "output_type": "stream",
     "text": [
      "dimensionality: 100\n",
      "density: 1.000000\n",
      "classification report:\n",
      "             precision    recall  f1-score   support\n",
      "\n",
      "        0.0       0.69      0.91      0.78      1620\n",
      "        1.0       0.51      0.18      0.26       821\n",
      "\n",
      "avg / total       0.63      0.67      0.61      2441\n",
      "\n",
      "confusion matrix:\n",
      "[[1481  139]\n",
      " [ 675  146]]\n",
      "\n",
      "================================================================================\n",
      "kNN\n",
      "classification report:\n",
      "             precision    recall  f1-score   support\n",
      "\n",
      "        0.0       0.68      0.88      0.77      1620\n",
      "        1.0       0.42      0.17      0.24       821\n",
      "\n",
      "avg / total       0.59      0.64      0.59      2441\n",
      "\n",
      "confusion matrix:\n",
      "[[1427  193]\n",
      " [ 683  138]]\n",
      "\n",
      "================================================================================\n",
      "Random forest\n",
      "classification report:\n",
      "             precision    recall  f1-score   support\n",
      "\n",
      "        0.0       0.67      0.99      0.79      1620\n",
      "        1.0       0.47      0.03      0.05       821\n",
      "\n",
      "avg / total       0.60      0.66      0.54      2441\n",
      "\n",
      "confusion matrix:\n",
      "[[1596   24]\n",
      " [ 800   21]]\n",
      "\n",
      "================================================================================\n",
      "L2 penalty\n",
      "dimensionality: 100\n",
      "density: 1.000000\n",
      "classification report:\n",
      "             precision    recall  f1-score   support\n",
      "\n",
      "        0.0       0.68      0.92      0.78      1620\n",
      "        1.0       0.51      0.17      0.25       821\n",
      "\n",
      "avg / total       0.63      0.67      0.61      2441\n",
      "\n",
      "confusion matrix:\n",
      "[[1487  133]\n",
      " [ 684  137]]\n",
      "\n"
     ]
    },
    {
     "name": "stderr",
     "output_type": "stream",
     "text": [
      "/Users/zamparol/anaconda36/lib/python3.6/site-packages/sklearn/linear_model/stochastic_gradient.py:117: DeprecationWarning: n_iter parameter is deprecated in 0.19 and will be removed in 0.21. Use max_iter and tol instead.\n",
      "  DeprecationWarning)\n"
     ]
    },
    {
     "name": "stdout",
     "output_type": "stream",
     "text": [
      "dimensionality: 100\n",
      "density: 1.000000\n",
      "classification report:\n",
      "             precision    recall  f1-score   support\n",
      "\n",
      "        0.0       0.67      0.83      0.74      1620\n",
      "        1.0       0.37      0.20      0.26       821\n",
      "\n",
      "avg / total       0.57      0.62      0.58      2441\n",
      "\n",
      "confusion matrix:\n",
      "[[1339  281]\n",
      " [ 657  164]]\n",
      "\n",
      "================================================================================\n",
      "L1 penalty\n",
      "dimensionality: 100\n",
      "density: 1.000000\n",
      "classification report:\n",
      "             precision    recall  f1-score   support\n",
      "\n",
      "        0.0       0.68      0.92      0.78      1620\n",
      "        1.0       0.51      0.17      0.25       821\n",
      "\n",
      "avg / total       0.63      0.67      0.61      2441\n",
      "\n",
      "confusion matrix:\n",
      "[[1487  133]\n",
      " [ 684  137]]\n",
      "\n"
     ]
    },
    {
     "name": "stderr",
     "output_type": "stream",
     "text": [
      "/Users/zamparol/anaconda36/lib/python3.6/site-packages/sklearn/linear_model/stochastic_gradient.py:117: DeprecationWarning: n_iter parameter is deprecated in 0.19 and will be removed in 0.21. Use max_iter and tol instead.\n",
      "  DeprecationWarning)\n"
     ]
    },
    {
     "name": "stdout",
     "output_type": "stream",
     "text": [
      "dimensionality: 100\n",
      "density: 0.290000\n",
      "classification report:\n",
      "             precision    recall  f1-score   support\n",
      "\n",
      "        0.0       0.70      0.66      0.68      1620\n",
      "        1.0       0.40      0.45      0.42       821\n",
      "\n",
      "avg / total       0.60      0.59      0.59      2441\n",
      "\n",
      "confusion matrix:\n",
      "[[1072  548]\n",
      " [ 455  366]]\n",
      "\n",
      "================================================================================\n",
      "Elastic-Net penalty\n"
     ]
    },
    {
     "name": "stderr",
     "output_type": "stream",
     "text": [
      "/Users/zamparol/anaconda36/lib/python3.6/site-packages/sklearn/linear_model/stochastic_gradient.py:117: DeprecationWarning: n_iter parameter is deprecated in 0.19 and will be removed in 0.21. Use max_iter and tol instead.\n",
      "  DeprecationWarning)\n"
     ]
    },
    {
     "name": "stdout",
     "output_type": "stream",
     "text": [
      "dimensionality: 100\n",
      "density: 0.400000\n",
      "classification report:\n",
      "             precision    recall  f1-score   support\n",
      "\n",
      "        0.0       0.69      0.84      0.76      1620\n",
      "        1.0       0.45      0.26      0.33       821\n",
      "\n",
      "avg / total       0.61      0.65      0.61      2441\n",
      "\n",
      "confusion matrix:\n",
      "[[1365  255]\n",
      " [ 611  210]]\n",
      "\n",
      "================================================================================\n",
      "Naive Bayes\n",
      "dimensionality: 100\n",
      "density: 1.000000\n",
      "classification report:\n",
      "             precision    recall  f1-score   support\n",
      "\n",
      "        0.0       0.69      0.84      0.76      1620\n",
      "        1.0       0.45      0.26      0.33       821\n",
      "\n",
      "avg / total       0.61      0.64      0.61      2441\n",
      "\n",
      "confusion matrix:\n",
      "[[1360  260]\n",
      " [ 608  213]]\n",
      "\n",
      "================================================================================\n",
      "LinearSVC with L1-based feature selection\n",
      "classification report:\n",
      "             precision    recall  f1-score   support\n",
      "\n",
      "        0.0       0.68      0.89      0.77      1620\n",
      "        1.0       0.46      0.18      0.26       821\n",
      "\n",
      "avg / total       0.61      0.65      0.60      2441\n",
      "\n",
      "confusion matrix:\n",
      "[[1447  173]\n",
      " [ 671  150]]\n",
      "\n"
     ]
    }
   ],
   "source": [
    "from sklearn.pipeline import Pipeline\n",
    "from sklearn.svm import LinearSVC\n",
    "from sklearn.linear_model import SGDClassifier\n",
    "from sklearn.naive_bayes import BernoulliNB\n",
    "from sklearn.neighbors import KNeighborsClassifier\n",
    "from sklearn.linear_model import RidgeClassifier\n",
    "from sklearn.ensemble import RandomForestClassifier\n",
    "from sklearn.utils.extmath import density\n",
    "from sklearn.feature_selection import SelectFromModel\n",
    "\n",
    "embedded_results, hashed_results = [], []\n",
    "\n",
    "for train_data, valid_data, results in [[X_train_embedded, X_validation_embedded, embedded_results],\n",
    "                                        [X_train_hashed, X_valid_hashed, hashed_results]]:\n",
    "    for clf, name in (\n",
    "            (RidgeClassifier(tol=1e-2, solver=\"lsqr\"), \"Ridge Classifier\"),\n",
    "            (KNeighborsClassifier(n_neighbors=10), \"kNN\"),\n",
    "            (RandomForestClassifier(n_estimators=100), \"Random forest\")):\n",
    "        print('=' * 80)\n",
    "        print(name)\n",
    "        results.append(benchmark(clf, train_data, Y_train_labels, valid_data, Y_validation_labels))\n",
    "\n",
    "    for penalty in [\"l2\", \"l1\"]:\n",
    "        print('=' * 80)\n",
    "        print(\"%s penalty\" % penalty.upper())\n",
    "        # Train Liblinear model\n",
    "        results.append(benchmark(LinearSVC(penalty=penalty, dual=False,\n",
    "                                           tol=1e-3),\n",
    "                                 train_data, Y_train_labels, valid_data, Y_validation_labels))\n",
    "\n",
    "        # Train SGD model\n",
    "        results.append(benchmark(SGDClassifier(alpha=.0001, n_iter=50,\n",
    "                                               penalty=penalty),\n",
    "                                train_data, Y_train_labels, valid_data, Y_validation_labels))\n",
    "\n",
    "    # Train SGD with Elastic Net penalty\n",
    "    print('=' * 80)\n",
    "    print(\"Elastic-Net penalty\")\n",
    "    results.append(benchmark(SGDClassifier(alpha=.0001, n_iter=50,\n",
    "                                           penalty=\"elasticnet\"),\n",
    "                            train_data, Y_train_labels, valid_data, Y_validation_labels))\n",
    "\n",
    "    # Train sparse Naive Bayes classifiers\n",
    "    print('=' * 80)\n",
    "    print(\"Naive Bayes\")\n",
    "    results.append(benchmark(BernoulliNB(alpha=.01),\n",
    "                  train_data, Y_train_labels, valid_data, Y_validation_labels))\n",
    "\n",
    "    print('=' * 80)\n",
    "    print(\"LinearSVC with L1-based feature selection\")\n",
    "    # The smaller C, the stronger the regularization.\n",
    "    # The more regularization, the more sparsity.\n",
    "    results.append(benchmark(Pipeline([\n",
    "      ('feature_selection', SelectFromModel(LinearSVC(penalty=\"l1\", dual=False,\n",
    "                                                      tol=1e-3))),\n",
    "      ('classification', LinearSVC(penalty=\"l2\"))]),\n",
    "                  train_data, Y_train_labels, valid_data, Y_validation_labels))"
   ]
  },
  {
   "cell_type": "markdown",
   "metadata": {},
   "source": [
    "### Pack results into a df for plotting:\n",
    "Results lists consist of: score, aupr, auroc, f_one\n",
    "Need to tidy up data, get a df with cols identifying:\n",
    "- classifier\n",
    "- feature set\n",
    "- measure"
   ]
  },
  {
   "cell_type": "code",
   "execution_count": 17,
   "metadata": {},
   "outputs": [],
   "source": [
    "import pandas as pd\n",
    "\n",
    "def assemble_df(results_list, factor, features):\n",
    "    ''' turn results list into dict for df transformation '''\n",
    "    \n",
    "    entries = len(results_list)\n",
    "    pd_dict = {'Features': [features for f in range(entries)], 'Classifier': [], 'Accuracy': [], 'AUROC': [], 'AUPR': [], 'F1': []}\n",
    "    for record in results_list:\n",
    "        name, acc, aupr, auroc, f_one = record\n",
    "        pd_dict['Classifier'].append(name)\n",
    "        pd_dict['Accuracy'].append(acc)\n",
    "        pd_dict['AUPR'].append(aupr)\n",
    "        pd_dict['AUROC'].append(auroc)\n",
    "        pd_dict['F1'].append(f_one)\n",
    "        \n",
    "    return pd.DataFrame.from_dict(pd_dict)"
   ]
  },
  {
   "cell_type": "code",
   "execution_count": 18,
   "metadata": {},
   "outputs": [],
   "source": [
    "# embedded_results, hashed_results\n",
    "embedded_features_df = assemble_df(embedded_results, factor, \"Embedding features\")\n",
    "hashed_features_df = assemble_df(hashed_results, factor, \"Random Projection features\")\n",
    "\n",
    "# concat dfs\n",
    "all_features_df = pd.concat([embedded_features_df, hashed_features_df])\n",
    "\n",
    "# melt into tidy format\n",
    "tidy_df = pd.melt(all_features_df, id_vars=['Classifier', 'Features'], value_vars=['AUPR','AUROC','Accuracy','F1'], var_name='Metric', value_name='Value')"
   ]
  },
  {
   "cell_type": "code",
   "execution_count": 19,
   "metadata": {},
   "outputs": [
    {
     "data": {
      "application/vnd.vegalite.v2+json": {
       "$schema": "https://vega.github.io/schema/vega-lite/v2.3.0.json",
       "config": {
        "view": {
         "height": 300,
         "width": 400
        }
       },
       "data": {
        "values": [
         {
          "Classifier": "RidgeClassifier",
          "Features": "Embedding features",
          "Metric": "AUPR",
          "Value": 0.6624551285265285
         },
         {
          "Classifier": "KNeighborsClassifier",
          "Features": "Embedding features",
          "Metric": "AUPR",
          "Value": 0.5452529297196695
         },
         {
          "Classifier": "RandomForestClassifier",
          "Features": "Embedding features",
          "Metric": "AUPR",
          "Value": 0.6102908463000383
         },
         {
          "Classifier": "LinearSVC",
          "Features": "Embedding features",
          "Metric": "AUPR",
          "Value": 0.6755100974497058
         },
         {
          "Classifier": "SGDClassifier",
          "Features": "Embedding features",
          "Metric": "AUPR",
          "Value": 0.6635982421897233
         },
         {
          "Classifier": "LinearSVC",
          "Features": "Embedding features",
          "Metric": "AUPR",
          "Value": 0.6745427144129679
         },
         {
          "Classifier": "SGDClassifier",
          "Features": "Embedding features",
          "Metric": "AUPR",
          "Value": 0.6705074302229876
         },
         {
          "Classifier": "SGDClassifier",
          "Features": "Embedding features",
          "Metric": "AUPR",
          "Value": 0.6647145089467051
         },
         {
          "Classifier": "BernoulliNB",
          "Features": "Embedding features",
          "Metric": "AUPR",
          "Value": 0.48404516654684593
         },
         {
          "Classifier": "Pipeline",
          "Features": "Embedding features",
          "Metric": "AUPR",
          "Value": 0.6746061744616056
         },
         {
          "Classifier": "RidgeClassifier",
          "Features": "Random Projection features",
          "Metric": "AUPR",
          "Value": 0.4659903348922265
         },
         {
          "Classifier": "KNeighborsClassifier",
          "Features": "Random Projection features",
          "Metric": "AUPR",
          "Value": 0.38731260181145316
         },
         {
          "Classifier": "RandomForestClassifier",
          "Features": "Random Projection features",
          "Metric": "AUPR",
          "Value": 0.42519192772687286
         },
         {
          "Classifier": "LinearSVC",
          "Features": "Random Projection features",
          "Metric": "AUPR",
          "Value": 0.46767459608203865
         },
         {
          "Classifier": "SGDClassifier",
          "Features": "Random Projection features",
          "Metric": "AUPR",
          "Value": 0.3636487596060265
         },
         {
          "Classifier": "LinearSVC",
          "Features": "Random Projection features",
          "Metric": "AUPR",
          "Value": 0.4676513066235685
         },
         {
          "Classifier": "SGDClassifier",
          "Features": "Random Projection features",
          "Metric": "AUPR",
          "Value": 0.4006190146032643
         },
         {
          "Classifier": "SGDClassifier",
          "Features": "Random Projection features",
          "Metric": "AUPR",
          "Value": 0.4140381120864187
         },
         {
          "Classifier": "BernoulliNB",
          "Features": "Random Projection features",
          "Metric": "AUPR",
          "Value": 0.42903422579242295
         },
         {
          "Classifier": "Pipeline",
          "Features": "Random Projection features",
          "Metric": "AUPR",
          "Value": 0.42853158101042454
         },
         {
          "Classifier": "RidgeClassifier",
          "Features": "Embedding features",
          "Metric": "AUROC",
          "Value": 0.8125125937955819
         },
         {
          "Classifier": "KNeighborsClassifier",
          "Features": "Embedding features",
          "Metric": "AUROC",
          "Value": 0.7391328701824033
         },
         {
          "Classifier": "RandomForestClassifier",
          "Features": "Embedding features",
          "Metric": "AUROC",
          "Value": 0.770912467481692
         },
         {
          "Classifier": "LinearSVC",
          "Features": "Embedding features",
          "Metric": "AUROC",
          "Value": 0.8137140794875266
         },
         {
          "Classifier": "SGDClassifier",
          "Features": "Embedding features",
          "Metric": "AUROC",
          "Value": 0.8145321122990632
         },
         {
          "Classifier": "LinearSVC",
          "Features": "Embedding features",
          "Metric": "AUROC",
          "Value": 0.8130937880633373
         },
         {
          "Classifier": "SGDClassifier",
          "Features": "Embedding features",
          "Metric": "AUROC",
          "Value": 0.812459963008075
         },
         {
          "Classifier": "SGDClassifier",
          "Features": "Embedding features",
          "Metric": "AUROC",
          "Value": 0.814880227365002
         },
         {
          "Classifier": "BernoulliNB",
          "Features": "Embedding features",
          "Metric": "AUROC",
          "Value": 0.6753255590141501
         },
         {
          "Classifier": "Pipeline",
          "Features": "Embedding features",
          "Metric": "AUROC",
          "Value": 0.8139396400054134
         },
         {
          "Classifier": "RidgeClassifier",
          "Features": "Random Projection features",
          "Metric": "AUROC",
          "Value": 0.6480639388881371
         },
         {
          "Classifier": "KNeighborsClassifier",
          "Features": "Random Projection features",
          "Metric": "AUROC",
          "Value": 0.5887302446579751
         },
         {
          "Classifier": "RandomForestClassifier",
          "Features": "Random Projection features",
          "Metric": "AUROC",
          "Value": 0.6129667223049277
         },
         {
          "Classifier": "LinearSVC",
          "Features": "Random Projection features",
          "Metric": "AUROC",
          "Value": 0.6479684516022315
         },
         {
          "Classifier": "SGDClassifier",
          "Features": "Random Projection features",
          "Metric": "AUROC",
          "Value": 0.5410339694139937
         },
         {
          "Classifier": "LinearSVC",
          "Features": "Random Projection features",
          "Metric": "AUROC",
          "Value": 0.6479744665493752
         },
         {
          "Classifier": "SGDClassifier",
          "Features": "Random Projection features",
          "Metric": "AUROC",
          "Value": 0.5810664501285695
         },
         {
          "Classifier": "SGDClassifier",
          "Features": "Random Projection features",
          "Metric": "AUROC",
          "Value": 0.5894994060239696
         },
         {
          "Classifier": "BernoulliNB",
          "Features": "Random Projection features",
          "Metric": "AUROC",
          "Value": 0.6161230658185591
         },
         {
          "Classifier": "Pipeline",
          "Features": "Random Projection features",
          "Metric": "AUROC",
          "Value": 0.6059653238297168
         },
         {
          "Classifier": "RidgeClassifier",
          "Features": "Embedding features",
          "Metric": "Accuracy",
          "Value": 0.751741089717329
         },
         {
          "Classifier": "KNeighborsClassifier",
          "Features": "Embedding features",
          "Metric": "Accuracy",
          "Value": 0.7103646046702171
         },
         {
          "Classifier": "RandomForestClassifier",
          "Features": "Embedding features",
          "Metric": "Accuracy",
          "Value": 0.7230643179024989
         },
         {
          "Classifier": "LinearSVC",
          "Features": "Embedding features",
          "Metric": "Accuracy",
          "Value": 0.7550184350675953
         },
         {
          "Classifier": "SGDClassifier",
          "Features": "Embedding features",
          "Metric": "Accuracy",
          "Value": 0.7492830807046292
         },
         {
          "Classifier": "LinearSVC",
          "Features": "Embedding features",
          "Metric": "Accuracy",
          "Value": 0.7521507578861123
         },
         {
          "Classifier": "SGDClassifier",
          "Features": "Embedding features",
          "Metric": "Accuracy",
          "Value": 0.7541990987300287
         },
         {
          "Classifier": "SGDClassifier",
          "Features": "Embedding features",
          "Metric": "Accuracy",
          "Value": 0.7501024170421958
         },
         {
          "Classifier": "BernoulliNB",
          "Features": "Embedding features",
          "Metric": "Accuracy",
          "Value": 0.6071282261368292
         },
         {
          "Classifier": "Pipeline",
          "Features": "Embedding features",
          "Metric": "Accuracy",
          "Value": 0.7537894305612454
         },
         {
          "Classifier": "RidgeClassifier",
          "Features": "Random Projection features",
          "Metric": "Accuracy",
          "Value": 0.6665301106104056
         },
         {
          "Classifier": "KNeighborsClassifier",
          "Features": "Random Projection features",
          "Metric": "Accuracy",
          "Value": 0.6411306841458418
         },
         {
          "Classifier": "RandomForestClassifier",
          "Features": "Random Projection features",
          "Metric": "Accuracy",
          "Value": 0.6624334289225727
         },
         {
          "Classifier": "LinearSVC",
          "Features": "Random Projection features",
          "Metric": "Accuracy",
          "Value": 0.6653011061040557
         },
         {
          "Classifier": "SGDClassifier",
          "Features": "Random Projection features",
          "Metric": "Accuracy",
          "Value": 0.6157312576812781
         },
         {
          "Classifier": "LinearSVC",
          "Features": "Random Projection features",
          "Metric": "Accuracy",
          "Value": 0.6653011061040557
         },
         {
          "Classifier": "SGDClassifier",
          "Features": "Random Projection features",
          "Metric": "Accuracy",
          "Value": 0.5891028267103646
         },
         {
          "Classifier": "SGDClassifier",
          "Features": "Random Projection features",
          "Metric": "Accuracy",
          "Value": 0.6452273658336747
         },
         {
          "Classifier": "BernoulliNB",
          "Features": "Random Projection features",
          "Metric": "Accuracy",
          "Value": 0.6444080294961082
         },
         {
          "Classifier": "Pipeline",
          "Features": "Random Projection features",
          "Metric": "Accuracy",
          "Value": 0.6542400655469071
         },
         {
          "Classifier": "RidgeClassifier",
          "Features": "Embedding features",
          "Metric": "F1",
          "Value": 0.5517751479289941
         },
         {
          "Classifier": "KNeighborsClassifier",
          "Features": "Embedding features",
          "Metric": "F1",
          "Value": 0.4590665646518745
         },
         {
          "Classifier": "RandomForestClassifier",
          "Features": "Embedding features",
          "Metric": "F1",
          "Value": 0.4468085106382979
         },
         {
          "Classifier": "LinearSVC",
          "Features": "Embedding features",
          "Metric": "F1",
          "Value": 0.5679190751445087
         },
         {
          "Classifier": "SGDClassifier",
          "Features": "Embedding features",
          "Metric": "F1",
          "Value": 0.532824427480916
         },
         {
          "Classifier": "LinearSVC",
          "Features": "Embedding features",
          "Metric": "F1",
          "Value": 0.5650611071171819
         },
         {
          "Classifier": "SGDClassifier",
          "Features": "Embedding features",
          "Metric": "F1",
          "Value": 0.6250000000000001
         },
         {
          "Classifier": "SGDClassifier",
          "Features": "Embedding features",
          "Metric": "F1",
          "Value": 0.5454545454545454
         },
         {
          "Classifier": "BernoulliNB",
          "Features": "Embedding features",
          "Metric": "F1",
          "Value": 0.5373854317414376
         },
         {
          "Classifier": "Pipeline",
          "Features": "Embedding features",
          "Metric": "F1",
          "Value": 0.5660649819494584
         },
         {
          "Classifier": "RidgeClassifier",
          "Features": "Random Projection features",
          "Metric": "F1",
          "Value": 0.2640144665461121
         },
         {
          "Classifier": "KNeighborsClassifier",
          "Features": "Random Projection features",
          "Metric": "F1",
          "Value": 0.23958333333333334
         },
         {
          "Classifier": "RandomForestClassifier",
          "Features": "Random Projection features",
          "Metric": "F1",
          "Value": 0.04849884526558892
         },
         {
          "Classifier": "LinearSVC",
          "Features": "Random Projection features",
          "Metric": "F1",
          "Value": 0.25114573785517874
         },
         {
          "Classifier": "SGDClassifier",
          "Features": "Random Projection features",
          "Metric": "F1",
          "Value": 0.2590837282780411
         },
         {
          "Classifier": "LinearSVC",
          "Features": "Random Projection features",
          "Metric": "F1",
          "Value": 0.25114573785517874
         },
         {
          "Classifier": "SGDClassifier",
          "Features": "Random Projection features",
          "Metric": "F1",
          "Value": 0.4219020172910663
         },
         {
          "Classifier": "SGDClassifier",
          "Features": "Random Projection features",
          "Metric": "F1",
          "Value": 0.3265940902021773
         },
         {
          "Classifier": "BernoulliNB",
          "Features": "Random Projection features",
          "Metric": "F1",
          "Value": 0.32921174652241114
         },
         {
          "Classifier": "Pipeline",
          "Features": "Random Projection features",
          "Metric": "F1",
          "Value": 0.26223776223776224
         }
        ]
       },
       "encoding": {
        "color": {
         "field": "Features",
         "type": "nominal"
        },
        "column": {
         "field": "Metric",
         "type": "nominal"
        },
        "x": {
         "field": "Features",
         "type": "nominal"
        },
        "y": {
         "field": "Value",
         "type": "quantitative"
        }
       },
       "height": 180,
       "mark": "point",
       "title": "SMC3",
       "width": 180
      },
      "image/png": "[encoded data removed]",
      "text/plain": [
       "<VegaLite 2 object>\n",
       "\n",
       "If you see this message, it means the renderer has not been properly enabled\n",
       "for the frontend that you are using. For more information, see\n",
       "https://altair-viz.github.io/user_guide/troubleshooting.html\n"
      ]
     },
     "execution_count": 19,
     "metadata": {},
     "output_type": "execute_result"
    }
   ],
   "source": [
    "import altair as alt\n",
    "\n",
    "title = factor\n",
    "\n",
    "alt.Chart(tidy_df).mark_point().encode(\n",
    "    x='Features:N',\n",
    "    y='Value:Q',\n",
    "    color='Features:N',\n",
    "    column='Metric:N'\n",
    ").properties(\n",
    "    width=180,\n",
    "    height=180,\n",
    "    title=title\n",
    ")"
   ]
  },
  {
   "cell_type": "code",
   "execution_count": null,
   "metadata": {},
   "outputs": [],
   "source": []
  }
 ],
 "metadata": {
  "anaconda-cloud": {},
  "kernelspec": {
   "display_name": "Python 3",
   "language": "python",
   "name": "python3"
  },
  "language_info": {
   "codemirror_mode": {
    "name": "ipython",
    "version": 3
   },
   "file_extension": ".py",
   "mimetype": "text/x-python",
   "name": "python",
   "nbconvert_exporter": "python",
   "pygments_lexer": "ipython3",
   "version": "3.6.4"
  }
 },
 "nbformat": 4,
 "nbformat_minor": 2
}
