{
 "cells": [
  {
   "cell_type": "code",
   "execution_count": 4,
   "metadata": {
    "collapsed": true
   },
   "outputs": [],
   "source": [
    "from collections import Counter\n",
    "import pickle\n",
    "import os\n",
    "import yaml"
   ]
  },
  {
   "cell_type": "code",
   "execution_count": 7,
   "metadata": {
    "collapsed": true
   },
   "outputs": [],
   "source": [
    "# get the model file params\n",
    "config_dir = os.path.expanduser('~/projects/embedding/src/config_yamls/kmer_models_enriched/')\n",
    "model_yaml = 'k_6_s_1.yaml'\n",
    "with open(os.path.join(config_dir, model_yaml)) as f:\n",
    "    params = yaml.load(f)"
   ]
  },
  {
   "cell_type": "code",
   "execution_count": 21,
   "metadata": {},
   "outputs": [
    {
     "data": {
      "text/plain": [
       "'/Users/zamparol/projects/embedding/results/enriched/k_6_s_1'"
      ]
     },
     "execution_count": 21,
     "metadata": {},
     "output_type": "execute_result"
    }
   ],
   "source": [
    "# load the dict\n",
    "results_dir = os.path.expanduser('~/projects/embedding/results')\n",
    "model_spec = os.path.basename(os.path.dirname(params['save_dir']))\n",
    "model_class = os.path.basename(os.path.dirname(os.path.dirname(params['save_dir'])))\n",
    "model_dir = os.path.join(results_dir, model_class, model_spec)\n",
    "validation_results = pickle.load(open(os.path.join(model_dir, )))"
   ]
  },
  {
   "cell_type": "code",
   "execution_count": null,
   "metadata": {
    "collapsed": true
   },
   "outputs": [],
   "source": []
  }
 ],
 "metadata": {
  "kernelspec": {
   "display_name": "Python 3",
   "language": "python",
   "name": "python3"
  },
  "language_info": {
   "codemirror_mode": {
    "name": "ipython",
    "version": 3
   },
   "file_extension": ".py",
   "mimetype": "text/x-python",
   "name": "python",
   "nbconvert_exporter": "python",
   "pygments_lexer": "ipython3",
   "version": "3.5.3"
  }
 },
 "nbformat": 4,
 "nbformat_minor": 2
}
